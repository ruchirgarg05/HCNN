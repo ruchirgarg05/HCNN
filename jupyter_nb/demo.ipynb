{
 "cells": [
  {
   "cell_type": "markdown",
   "metadata": {},
   "source": []
  },
  {
   "cell_type": "code",
   "execution_count": 1,
   "metadata": {},
   "outputs": [
    {
     "name": "stdout",
     "output_type": "stream",
     "text": [
      "Populating the interactive namespace from numpy and matplotlib\n"
     ]
    }
   ],
   "source": [
    "# for plotting to visualize some data\n",
    "%matplotlib inline\n",
    "%pylab inline"
   ]
  },
  {
   "cell_type": "code",
   "execution_count": 2,
   "metadata": {},
   "outputs": [],
   "source": [
    "# I have not written a python packaging script, load the NN class within the repository\n",
    "import sys\n",
    "from __future__ import print_function\n",
    "sys.path.append('../')"
   ]
  },
  {
   "cell_type": "code",
   "execution_count": 3,
   "metadata": {},
   "outputs": [],
   "source": [
    "import HapCNN.utils as utils\n",
    "import HapCNN.hcnn as hcnn"
   ]
  },
  {
   "cell_type": "code",
   "execution_count": 4,
   "metadata": {},
   "outputs": [],
   "source": []
  },
  {
   "cell_type": "markdown",
   "metadata": {},
   "source": [
    "Shell script example to get testing data from BAM files and (stripped) VCF files\n",
    "These scripts depend on `falcon_kit.FastaReader` for reading fasta files and `samtools` for parsing alignment records. \n",
    "\n",
    "```\n",
    "mkdir -p ./wd\n",
    "cd ./wd\n",
    "python ../helper_scripts/get_SNP_candidates.py --bam_file_fn ../testing_data/chr22/hg38.NA12878-WashU_chr22-18924717-49973797.bam \\\n",
    "                                               --ref_fasta_fn ../testing_data/chr22/chr22.fa \\\n",
    "                                               --pm_count_fn pm_counts_chr22 --ctg_nam chr22\n",
    "python ../helper_scripts/get_alignment_tensor.py --bam_file_fn ../testing_data/chr22/hg38.NA12878-WashU_chr22-18924717-49973797.bam \\\n",
    "                                                 --pm_count_fn pm_counts_chr22 \\\n",
    "                                                 --ref_fasta_fn ../testing_data/chr22/chr22.fa \\\n",
    "                                                 --ctg_name chr22 > aln_tensor_chr22\n",
    "```\n",
    "\n"]
  },
  {
   "cell_type": "markdown",
   "metadata": {},
   "source": [
    "## Training using Chr21 variant calls"
   ]
  },
  {
   "cell_type": "code",
   "execution_count": 5,
   "metadata": {},
   "outputs": [],
   "source": [
    "# load the generate alignment \"tensors\" \n",
    "# we don't use the variats outside the regions defined in `CHROM21_v.3.3.2_highconf_noinconsistent.bed`\n",
    "\n",
    "Xarray, Yarray, pos_array = \\\n",
    "utils.get_training_array(\"../wd/aln_tensor_chr21\", \n",
    "                         \"../wd/variants_chr21\", \n",
    "                         \"../testing_data/chr21/CHROM21_v.3.3.2_highconf_noinconsistent.bed\" )"
   ]
  },
  {
   "cell_type": "code",
   "execution_count": 6,
   "metadata": {},
   "outputs": [
    {
     "name": "stdout",
     "output_type": "stream",
     "text": [
      "(53537, 15, 4, 3)\n",
      "(53537, 8)\n"
     ]
    }
   ],
   "source": [
    "print(Xarray.shape)\n",
    "print(Yarray.shape)"
   ]
  },
  {
   "cell_type": "code",
   "execution_count": 7,
   "metadata": {},
   "outputs": [
    {
     "data": {
      "text/plain": [
       "<matplotlib.image.AxesImage at 0x7f25fc68c898>"
      ]
     },
     "execution_count": 7,
     "metadata": {},
     "output_type": "execute_result"
    },
    {
     "data": {
      "image/png": "[encoded data removed]",
      "text/plain": [
       "<matplotlib.figure.Figure at 0x7f25fdd366d8>"
      ]
     },
     "metadata": {},
     "output_type": "display_data"
    },
    {
     "data": {
      "image/png": "[encoded data removed]",
      "text/plain": [
       "<matplotlib.figure.Figure at 0x7f25fdd36da0>"
      ]
     },
     "metadata": {},
     "output_type": "display_data"
    },
    {
     "data": {
      "image/png": "[encoded data removed]",
      "text/plain": [
       "<matplotlib.figure.Figure at 0x7f25fc31f940>"
      ]
     },
     "metadata": {},
     "output_type": "display_data"
    }
   ],
   "source": [
    "# here we show how the three matrices are like for a candidate site\n",
    "\n",
    "i = 999\n",
    "figure(figsize=(5, 2))\n",
    "matshow(Xarray[i,:,:,0].transpose(), vmin=0, vmax=50, cmap=cm.coolwarm, fignum=0)\n",
    "figure(figsize=(5, 2))\n",
    "matshow(Xarray[i,:,:,1].transpose(), vmin=-50, vmax=50, cmap=cm.coolwarm, fignum=0)\n",
    "figure(figsize=(5, 2))\n",
    "matshow(Xarray[i,:,:,2].transpose(), vmin=-50, vmax=50, cmap=cm.coolwarm, fignum=0)"
   ]
  },
  {
   "cell_type": "code",
   "execution_count": 8,
   "metadata": {},
   "outputs": [],
   "source": [
    "%%bash\n",
    "mkdir -p ../wd/parameters"
   ]
  },
  {
   "cell_type": "code",
   "execution_count": 9,
   "metadata": {},
   "outputs": [
    {
     "name": "stdout",
     "output_type": "stream",
     "text": [
      "WARNING:tensorflow:From ../variantNet/vn.py:84: softmax_cross_entropy_with_logits (from tensorflow.python.ops.nn_ops) is deprecated and will be removed in a future version.\n",
      "Instructions for updating:\n",
      "\n",
      "Future major versions of TensorFlow will allow gradients to flow\n",
      "into the labels input on backprop by default.\n",
      "\n",
      "See tf.nn.softmax_cross_entropy_with_logits_v2.\n",
      "\n"
     ]
    }
   ],
   "source": [
    "# create a VariantNet\n",
    "cnn = hcnn.HAP_CNN()"
   ]
  },
  {
   "cell_type": "code",
   "execution_count": 10,
   "metadata": {},
   "outputs": [],
   "source": [
    "# initialize the parameters\n",
    "cnn.init()"
   ]
  },
  {
   "cell_type": "code",
   "execution_count": 11,
   "metadata": {},
   "outputs": [
    {
     "name": "stdout",
     "output_type": "stream",
     "text": [
      "0 train lost: 3.72539306640625 validation lost 2.8897869140625\n",
      "60 train lost: 0.8873594970703125 validation lost 0.92711123046875\n",
      "120 train lost: 0.6507681884765625 validation lost 0.697503271484375\n",
      "180 train lost: 0.549986328125 validation lost 0.58614619140625\n",
      "240 train lost: 0.400969482421875 validation lost 0.501640966796875\n",
      "300 train lost: 0.38352987670898436 validation lost 0.447988525390625\n",
      "360 train lost: 0.3977647399902344 validation lost 0.3904426513671875\n",
      "420 train lost: 0.3853101806640625 validation lost 0.3850858154296875\n",
      "480 train lost: 0.30514312744140626 validation lost 0.3599074462890625\n",
      "540 train lost: 0.3052677612304687 validation lost 0.3359606201171875\n",
      "600 train lost: 0.299947021484375 validation lost 0.3302803955078125\n",
      "660 train lost: 0.30207510375976565 validation lost 0.316009033203125\n",
      "720 train lost: 0.2679033203125 validation lost 0.3506486328125\n",
      "780 train lost: 0.23057183837890624 validation lost 0.3141190185546875\n",
      "840 train lost: 0.268615234375 validation lost 0.303251318359375\n",
      "900 train lost: 0.25584968566894534 validation lost 0.2866251220703125\n",
      "960 train lost: 0.24577947998046876 validation lost 0.291543994140625\n",
      "1020 train lost: 0.21327096557617187 validation lost 0.2886482421875\n",
      "1080 train lost: 0.21391114807128905 validation lost 0.284293701171875\n",
      "1140 train lost: 0.23039756774902342 validation lost 0.281445751953125\n",
      "1200 train lost: 0.20374896240234375 validation lost 0.281747119140625\n",
      "1260 train lost: 0.21570712280273438 validation lost 0.2784237548828125\n",
      "1320 train lost: 0.1649161834716797 validation lost 0.280825830078125\n",
      "1380 train lost: 0.2258702392578125 validation lost 0.2849654541015625\n",
      "1440 train lost: 0.21041897583007813 validation lost 0.2756542724609375\n",
      "1500 train lost: 0.21202040100097655 validation lost 0.2837438232421875\n",
      "1560 train lost: 0.162168701171875 validation lost 0.2728369140625\n",
      "1620 train lost: 0.16351847839355468 validation lost 0.282944921875\n",
      "1680 train lost: 0.17375711059570312 validation lost 0.28183955078125\n",
      "1740 train lost: 0.19061044311523437 validation lost 0.2737459228515625\n",
      "1800 train lost: 0.22648509216308593 validation lost 0.2860446044921875\n",
      "1860 train lost: 0.18516549682617187 validation lost 0.297446142578125\n",
      "1920 train lost: 0.19757418823242187 validation lost 0.281408984375\n",
      "1980 train lost: 0.2553403015136719 validation lost 0.29214912109375\n",
      "2040 train lost: 0.17660171508789063 validation lost 0.2930916015625\n",
      "2100 train lost: 0.18530152893066407 validation lost 0.299178173828125\n",
      "2160 train lost: 0.1738466796875 validation lost 0.293308349609375\n",
      "2220 train lost: 0.14881591796875 validation lost 0.2928556640625\n",
      "2280 train lost: 0.16735308837890625 validation lost 0.29966865234375\n",
      "2340 train lost: 0.14085601806640624 validation lost 0.31744697265625\n",
      "2400 train lost: 0.14231411743164063 validation lost 0.2919728271484375\n"
     ]
    }
   ],
   "source": [
    "# training and save the parameters, we train on the first 30000 SNP sites and validate on other 10000 SNP sites\n",
    "batch_size = 500\n",
    "validation_lost = []\n",
    "for i in range(2401):\n",
    "    Xbatch, Ybatch = utils.get_batch(Xarray[:30000], Yarray[:30000], size=batch_size)\n",
    "    loss = cnn.train(Xbatch, Ybatch)\n",
    "    if i % (len(Xarray[:30000])/batch_size) == 0:\n",
    "        v_lost = cnn.get_loss( Xarray[30000:40000], Yarray[30000:40000] )\n",
    "        print(i, \"train lost:\", loss/batch_size, \"validation lost\", v_lost/10000)\n",
    "        cnn.save_parameters('../wd/parameters/vn.params-%04d' % i)\n",
    "        validation_lost.append( (v_lost, i) )\n",
    "        "
   ]
  },
  {
   "cell_type": "code",
   "execution_count": 12,
   "metadata": {},
   "outputs": [
    {
     "name": "stdout",
     "output_type": "stream",
     "text": [
      "1560\n",
      "INFO:tensorflow:Restoring parameters from ../wd/parameters/vn.params-1560\n"
     ]
    }
   ],
   "source": [
    "# pick the parameter set of the smallest validation loss\n",
    "\n",
    "validation_lost.sort()\n",
    "i = validation_lost[0][1]\n",
    "print(i)\n",
    "cnn.restore_parameters('../wd/parameters/vn.params-%04d' % i)"
   ]
  },
  {
   "cell_type": "markdown",
   "metadata": {},
   "source": [
    "## Testing using Chr22 variant calls"
   ]
  },
  {
   "cell_type": "code",
   "execution_count": 13,
   "metadata": {},
   "outputs": [],
   "source": [
    "Xarray2, Yarray2, pos_array2 = \\\n",
    "utils.get_training_array(\"../wd/aln_tensor_chr22\", \n",
    "                         \"../wd/variants_chr22\", \n",
    "                         \"../testing_data/chr22/CHROM22_v.3.3.2_highconf_noinconsistent.bed\" )"
   ]
  },
  {
   "cell_type": "code",
   "execution_count": 14,
   "metadata": {},
   "outputs": [],
   "source": [
    "base, t = cnn.predict(Xarray2)"
   ]
  },
  {
   "cell_type": "code",
   "execution_count": 15,
   "metadata": {},
   "outputs": [
    {
     "data": {
      "text/plain": [
       "<matplotlib.image.AxesImage at 0x7f25b80fb898>"
      ]
     },
     "execution_count": 15,
     "metadata": {},
     "output_type": "execute_result"
    },
    {
     "data": {
      "image/png": "[encoded data removed]",
      "text/plain": [
       "<matplotlib.figure.Figure at 0x7f25fc90f470>"
      ]
     },
     "metadata": {},
     "output_type": "display_data"
    },
    {
     "data": {
      "image/png": "[encoded data removed]",
      "text/plain": [
       "<matplotlib.figure.Figure at 0x7f25fc7538d0>"
      ]
     },
     "metadata": {},
     "output_type": "display_data"
    }
   ],
   "source": [
    "# we can compare the output of the expected calls and the predicted calls\n",
    "\n",
    "figure(figsize=(15, 5))\n",
    "matshow(Yarray2[4000:4150,:].transpose(), fignum=0)\n",
    "figure(figsize=(15, 5))\n",
    "matshow(np.concatenate( (base[4000:4150,:],t[4000:4150,:]),1).transpose(), fignum=0)\n"
   ]
  },
  {
   "cell_type": "markdown",
   "metadata": {},
   "source": [
    "## Quick Evaluation"
   ]
  },
  {
   "cell_type": "code",
   "execution_count": 16,
   "metadata": {},
   "outputs": [],
   "source": [
    "evaluation_data = []\n",
    "for pos, predict_v, annotate_v in zip(np.array(pos_array2), t, Yarray2[:,4:]):\n",
    "    evaluation_data.append( (pos, np.argmax(predict_v), np.argmax(annotate_v)) )\n",
    "evaluation_data = np.array(evaluation_data)"
   ]
  },
  {
   "cell_type": "code",
   "execution_count": 17,
   "metadata": {},
   "outputs": [],
   "source": [
    "from collections import Counter"
   ]
  },
  {
   "cell_type": "code",
   "execution_count": 18,
   "metadata": {},
   "outputs": [
    {
     "name": "stdout",
     "output_type": "stream",
     "text": [
      "0 \t\n",
      "20958 \t\n",
      "283 \t\n",
      "287 \t\n",
      "281 \t\n",
      "1 \t\n",
      "35 \t\n",
      "9607 \t\n",
      "4 \t\n",
      "45 \t\n",
      "2 \t\n",
      "294 \t\n",
      "8 \t\n",
      "11846 \t\n",
      "461 \t\n",
      "3 \t\n",
      "667 \t\n",
      "363 \t\n",
      "247 \t\n",
      "1848 \t\n"
     ]
    }
   ],
   "source": [
    "for i in range(4):\n",
    "    cnt = Counter(evaluation_data[evaluation_data[:,2]==i,1])\n",
    "    print(i,\"\\t\",)\n",
    "    for j in range(4):\n",
    "        print(cnt.get(j,0),\"\\t\",)\n",
    "    print"
   ]
  },
  {
   "cell_type": "code",
   "execution_count": 19,
   "metadata": {},
   "outputs": [
    {
     "name": "stdout",
     "output_type": "stream",
     "text": [
      "Recall rate for het-call (regardless called variant types): 0.986840295290935\n",
      "Recall rate for het-call (called variant type = het): 0.960979412169288\n",
      "PPV for het-call (regardless called variant types): 0.9866083629406942\n",
      "PPV for het-call (called variant type = het): 0.9546324132276578\n",
      "Recall rate for hom-call (regardless called variant types): 0.9995872458982561\n",
      "Recall rate for hom-call (called variant type = hom): 0.9913321638633784\n",
      "PPV for hom-call (regardless called variant types): 0.99922034889387\n",
      "PPV for hom-call (called variant type = hom): 0.936263522073872\n",
      "Recall rate for all calls: 0.9844620938628159\n",
      "PPV for all calls: 0.9781061692969871\n"
     ]
    }
   ],
   "source": [
    "ed = evaluation_data\n",
    "print(\"Recall rate for het-call (regardless called variant types):\", 1.0*sum((ed[:,1]!=2) & (ed[:,2]==0))/sum(ed[:,2]==0))\n",
    "print(\"Recall rate for het-call (called variant type = het):\", 1.0*sum((ed[:,1]==0) & (ed[:,2]==0))/sum(ed[:,2]==0))\n",
    "print\n",
    "print(\"PPV for het-call (regardless called variant types):\", 1.0*sum((ed[:,1]==0) & (ed[:,2]!=2))/sum(ed[:,1]==0))\n",
    "print(\"PPV for het-call (called variant type = het):\", 1.0*sum((ed[:,1]==0) & (ed[:,2]==0))/sum(ed[:,1]==0))\n",
    "print\n",
    "print(\"Recall rate for hom-call (regardless called variant types):\", 1.0*sum((ed[:,1]!=2) & (ed[:,2]==1))/sum(ed[:,2]==1))\n",
    "print(\"Recall rate for hom-call (called variant type = hom):\", 1.0*sum((ed[:,1]==1) & (ed[:,2]==1))/sum(ed[:,2]==1))\n",
    "print\n",
    "print(\"PPV for hom-call (regardless called variant types):\", 1.0*sum((ed[:,1]==1) & (ed[:,2]!=2))/sum(ed[:,1]==1))\n",
    "print(\"PPV for hom-call (called variant type = hom):\", 1.0*sum((ed[:,1]==1) & (ed[:,2]==1))/sum(ed[:,1]==1))\n",
    "print\n",
    "print(\"Recall rate for all calls:\", 1.0*sum((ed[:,1]!=2) & (ed[:,2]!=2))/sum(ed[:,2]!=2))\n",
    "print(\"PPV for all calls:\", 1.0*sum((ed[:,1]!=2) & (ed[:,2]!=2))/sum(ed[:,1]!=2))"
   ]
  },
  {
   "cell_type": "markdown",
   "metadata": {},
   "source": [
    "We acutally call more variants outside those \"high confidence\" (a short alignment concept) regions, e.g., CYP2D6 regions in chr22."
   ]
  },
  {
   "cell_type": "code",
   "execution_count": 20,
   "metadata": {},
   "outputs": [
    {
     "name": "stdout",
     "output_type": "stream",
     "text": [
      "(82618, 15, 4, 3)\n"
     ]
    }
   ],
   "source": [
    "Xarray3, pos_array3 = utils.get_aln_array(\"../wd/aln_tensor_chr22\")\n",
    "print(Xarray3.shape)"
   ]
  },
  {
   "cell_type": "code",
   "execution_count": 21,
   "metadata": {},
   "outputs": [],
   "source": [
    "all_t = []\n",
    "for i in range(0,len(Xarray3),10000):\n",
    "    base, t = cnn.predict(Xarray3[i:i+10000])\n",
    "    all_t.append(t)\n",
    "all_t = np.concatenate(all_t)\n"
   ]
  },
  {
   "cell_type": "code",
   "execution_count": 22,
   "metadata": {},
   "outputs": [
    {
     "name": "stdout",
     "output_type": "stream",
     "text": [
      "Total number of variant from the high-confident short-read call-set:  34850\n",
      "Total number of variant calls from our chr22 data:  52817\n"
     ]
    }
   ],
   "source": [
    "evaluation_data2 = []\n",
    "for pos, predict_v in zip(np.array(pos_array3), all_t):\n",
    "    evaluation_data2.append( (pos, np.argmax(predict_v)) )\n",
    "evaluation_data2 = np.array(evaluation_data2)\n",
    "print(\"Total number of variant from the high-confident short-read call-set: \", sum(ed[:,1]!=2))\n",
    "print(\"Total number of variant calls from our chr22 data: \", sum(evaluation_data2[:,1] != 2))"
   ]
  }
 ],
 "metadata": {
  "kernelspec": {
   "display_name": "Python 3",
   "language": "python",
   "name": "python3"
  },
  "language_info": {
   "codemirror_mode": {
    "name": "ipython",
    "version": 3
   },
   "file_extension": ".py",
   "mimetype": "text/x-python",
   "name": "python",
   "nbconvert_exporter": "python",
   "pygments_lexer": "ipython3",
   "version": "3.6.3"
  }
 },
 "nbformat": 4,
 "nbformat_minor": 2
}
